{
 "cells": [
  {
   "cell_type": "markdown",
   "metadata": {},
   "source": [
    "# Spectral Resolution & Efficiency vs Grism Resolvance Trade\n",
    "Tradeoff between spectral resolution and effiency vs grism resolvance."
   ]
  },
  {
   "cell_type": "code",
   "execution_count": 6,
   "metadata": {},
   "outputs": [],
   "source": [
    "# external\n",
    "import astropy.units as unit\n",
    "import numpy as np\n",
    "import pandas as pd\n",
    "import plot\n",
    "from IPython.display import display\n",
    "\n",
    "# project\n",
    "from payload_designer import components, systems\n",
    "from payload_designer.libs import utillib"
   ]
  },
  {
   "cell_type": "markdown",
   "metadata": {},
   "source": [
    "## Setup\n",
    "Run this section onwards when a parameter is updated."
   ]
  },
  {
   "cell_type": "markdown",
   "metadata": {},
   "source": [
    "### Parameters"
   ]
  },
  {
   "cell_type": "code",
   "execution_count": 7,
   "metadata": {},
   "outputs": [],
   "source": [
    "# constants\n",
    "altitude = 550 * unit.km\n",
    "diameter = 100 * unit.mm\n",
    "skew_angle = np.array([0, 0]) * unit.deg\n",
    "slit_size = np.array([3, 1]) * unit.mm\n",
    "upper_wavelength = 1700 * unit.nm\n",
    "lower_wavelength = 900 * unit.nm\n",
    "\n",
    "\n",
    "# variables\n",
    "focal_length = np.arange(start=10, stop=300, step=10) * unit.mm\n",
    "\n",
    "# vectorization\n",
    "parameter_space_shape = (focal_length.size, slit_size.size)\n",
    "focal_length = utillib.orient_and_broadcast(\n",
    "    a=focal_length, dim=0, shape=parameter_space_shape\n",
    ")\n",
    "# slit_size = utillib.orient_and_broadcast(a=slit_size, dim=1, shape=parameter_space_shape)"
   ]
  },
  {
   "cell_type": "markdown",
   "metadata": {},
   "source": [
    "### Instantiation"
   ]
  },
  {
   "cell_type": "code",
   "execution_count": 8,
   "metadata": {},
   "outputs": [],
   "source": [
    "# components\n",
    "sensor = components.sensors.TauSWIR()\n",
    "foreoptic = components.foreoptics.Foreoptic(\n",
    "    diameter=diameter, focal_length=focal_length\n",
    ")\n",
    "slit = components.masks.RectSlit(size=slit_size)\n",
    "\n",
    "# systems\n",
    "payload = systems.payloads.HyperspectralImager(sensor=sensor, foreoptic=foreoptic, slit=slit)"
   ]
  },
  {
   "cell_type": "markdown",
   "metadata": {},
   "source": [
    "## Pipeline"
   ]
  },
  {
   "cell_type": "code",
   "execution_count": 9,
   "metadata": {},
   "outputs": [
    {
     "name": "stdout",
     "output_type": "stream",
     "text": [
      "Sensor-limited spectral resolution shape: 1.5625 nm / pix\n"
     ]
    }
   ],
   "source": [
    "sensor_spectral_resolution = payload.get_spectral_resolution(\n",
    "    upper_wavelength=upper_wavelength, lower_wavelength=lower_wavelength\n",
    ")\n",
    "print(f\"Sensor-limited spectral resolution shape: {sensor_spectral_resolution}\")\n",
    "\n",
    "#upper_wavelength, lower_wavelength, n_biny, n_px_y"
   ]
  },
  {
   "cell_type": "markdown",
   "metadata": {},
   "source": [
    "## Plots"
   ]
  },
  {
   "cell_type": "code",
   "execution_count": 10,
   "metadata": {},
   "outputs": [
    {
     "ename": "NameError",
     "evalue": "name 'sensor_spatial_resolution' is not defined",
     "output_type": "error",
     "traceback": [
      "\u001b[1;31m---------------------------------------------------------------------------\u001b[0m",
      "\u001b[1;31mNameError\u001b[0m                                 Traceback (most recent call last)",
      "\u001b[1;32mc:\\Users\\Optics\\Documents\\GitHub\\payload-designer\\notebooks\\spectralresolution_&_efficiency_vs_grismresolvance_.ipynb Cell 11'\u001b[0m in \u001b[0;36m<cell line: 2>\u001b[1;34m()\u001b[0m\n\u001b[0;32m      <a href='vscode-notebook-cell:/c%3A/Users/Optics/Documents/GitHub/payload-designer/notebooks/spectralresolution_%26_efficiency_vs_grismresolvance_.ipynb#ch0000010?line=0'>1</a>\u001b[0m data \u001b[39m=\u001b[39m {\n\u001b[0;32m      <a href='vscode-notebook-cell:/c%3A/Users/Optics/Documents/GitHub/payload-designer/notebooks/spectralresolution_%26_efficiency_vs_grismresolvance_.ipynb#ch0000010?line=1'>2</a>\u001b[0m     \u001b[39mf\u001b[39m\u001b[39m\"\u001b[39m\u001b[39mFocal Length [\u001b[39m\u001b[39m{\u001b[39;00mfocal_length\u001b[39m.\u001b[39munit\u001b[39m}\u001b[39;00m\u001b[39m]\u001b[39m\u001b[39m\"\u001b[39m: focal_length[:, \u001b[39m0\u001b[39m],\n\u001b[1;32m----> <a href='vscode-notebook-cell:/c%3A/Users/Optics/Documents/GitHub/payload-designer/notebooks/spectralresolution_%26_efficiency_vs_grismresolvance_.ipynb#ch0000010?line=2'>3</a>\u001b[0m     \u001b[39mf\u001b[39m\u001b[39m\"\u001b[39m\u001b[39mSpatial Resolution (across-track) [\u001b[39m\u001b[39m{\u001b[39;00msensor_spatial_resolution\u001b[39m.\u001b[39munit\u001b[39m}\u001b[39;00m\u001b[39m]\u001b[39m\u001b[39m\"\u001b[39m: sensor_spatial_resolution[\n\u001b[0;32m      <a href='vscode-notebook-cell:/c%3A/Users/Optics/Documents/GitHub/payload-designer/notebooks/spectralresolution_%26_efficiency_vs_grismresolvance_.ipynb#ch0000010?line=3'>4</a>\u001b[0m         :, \u001b[39m0\u001b[39m\n\u001b[0;32m      <a href='vscode-notebook-cell:/c%3A/Users/Optics/Documents/GitHub/payload-designer/notebooks/spectralresolution_%26_efficiency_vs_grismresolvance_.ipynb#ch0000010?line=4'>5</a>\u001b[0m     ],\n\u001b[0;32m      <a href='vscode-notebook-cell:/c%3A/Users/Optics/Documents/GitHub/payload-designer/notebooks/spectralresolution_%26_efficiency_vs_grismresolvance_.ipynb#ch0000010?line=5'>6</a>\u001b[0m     \u001b[39mf\u001b[39m\u001b[39m\"\u001b[39m\u001b[39mSpatial Resolution (along-track) [\u001b[39m\u001b[39m{\u001b[39;00msensor_spatial_resolution\u001b[39m.\u001b[39munit\u001b[39m}\u001b[39;00m\u001b[39m]\u001b[39m\u001b[39m\"\u001b[39m: sensor_spatial_resolution[\n\u001b[0;32m      <a href='vscode-notebook-cell:/c%3A/Users/Optics/Documents/GitHub/payload-designer/notebooks/spectralresolution_%26_efficiency_vs_grismresolvance_.ipynb#ch0000010?line=6'>7</a>\u001b[0m         :, \u001b[39m1\u001b[39m\n\u001b[0;32m      <a href='vscode-notebook-cell:/c%3A/Users/Optics/Documents/GitHub/payload-designer/notebooks/spectralresolution_%26_efficiency_vs_grismresolvance_.ipynb#ch0000010?line=7'>8</a>\u001b[0m     ],\n\u001b[0;32m      <a href='vscode-notebook-cell:/c%3A/Users/Optics/Documents/GitHub/payload-designer/notebooks/spectralresolution_%26_efficiency_vs_grismresolvance_.ipynb#ch0000010?line=8'>9</a>\u001b[0m     \u001b[39mf\u001b[39m\u001b[39m\"\u001b[39m\u001b[39mSwath (across-track) [\u001b[39m\u001b[39m{\u001b[39;00mswath\u001b[39m.\u001b[39munit\u001b[39m}\u001b[39;00m\u001b[39m]\u001b[39m\u001b[39m\"\u001b[39m: swath[:, \u001b[39m0\u001b[39m],\n\u001b[0;32m     <a href='vscode-notebook-cell:/c%3A/Users/Optics/Documents/GitHub/payload-designer/notebooks/spectralresolution_%26_efficiency_vs_grismresolvance_.ipynb#ch0000010?line=9'>10</a>\u001b[0m     \u001b[39mf\u001b[39m\u001b[39m\"\u001b[39m\u001b[39mSwath (along-track) [\u001b[39m\u001b[39m{\u001b[39;00mswath\u001b[39m.\u001b[39munit\u001b[39m}\u001b[39;00m\u001b[39m]\u001b[39m\u001b[39m\"\u001b[39m: swath[:, \u001b[39m1\u001b[39m],\n\u001b[0;32m     <a href='vscode-notebook-cell:/c%3A/Users/Optics/Documents/GitHub/payload-designer/notebooks/spectralresolution_%26_efficiency_vs_grismresolvance_.ipynb#ch0000010?line=10'>11</a>\u001b[0m }\n\u001b[0;32m     <a href='vscode-notebook-cell:/c%3A/Users/Optics/Documents/GitHub/payload-designer/notebooks/spectralresolution_%26_efficiency_vs_grismresolvance_.ipynb#ch0000010?line=12'>13</a>\u001b[0m df \u001b[39m=\u001b[39m pd\u001b[39m.\u001b[39mDataFrame\u001b[39m.\u001b[39mfrom_dict(data\u001b[39m=\u001b[39mdata)\n\u001b[0;32m     <a href='vscode-notebook-cell:/c%3A/Users/Optics/Documents/GitHub/payload-designer/notebooks/spectralresolution_%26_efficiency_vs_grismresolvance_.ipynb#ch0000010?line=13'>14</a>\u001b[0m graph \u001b[39m=\u001b[39m plot\u001b[39m.\u001b[39mline(\n\u001b[0;32m     <a href='vscode-notebook-cell:/c%3A/Users/Optics/Documents/GitHub/payload-designer/notebooks/spectralresolution_%26_efficiency_vs_grismresolvance_.ipynb#ch0000010?line=14'>15</a>\u001b[0m     df\u001b[39m=\u001b[39mdf,\n\u001b[0;32m     <a href='vscode-notebook-cell:/c%3A/Users/Optics/Documents/GitHub/payload-designer/notebooks/spectralresolution_%26_efficiency_vs_grismresolvance_.ipynb#ch0000010?line=15'>16</a>\u001b[0m     x\u001b[39m=\u001b[39m\u001b[39mf\u001b[39m\u001b[39m\"\u001b[39m\u001b[39mFocal Length [\u001b[39m\u001b[39m{\u001b[39;00mfocal_length\u001b[39m.\u001b[39munit\u001b[39m}\u001b[39;00m\u001b[39m]\u001b[39m\u001b[39m\"\u001b[39m,\n\u001b[1;32m   (...)\u001b[0m\n\u001b[0;32m     <a href='vscode-notebook-cell:/c%3A/Users/Optics/Documents/GitHub/payload-designer/notebooks/spectralresolution_%26_efficiency_vs_grismresolvance_.ipynb#ch0000010?line=23'>24</a>\u001b[0m     dark\u001b[39m=\u001b[39m\u001b[39mTrue\u001b[39;00m,\n\u001b[0;32m     <a href='vscode-notebook-cell:/c%3A/Users/Optics/Documents/GitHub/payload-designer/notebooks/spectralresolution_%26_efficiency_vs_grismresolvance_.ipynb#ch0000010?line=24'>25</a>\u001b[0m )\n",
      "\u001b[1;31mNameError\u001b[0m: name 'sensor_spatial_resolution' is not defined"
     ]
    }
   ],
   "source": [
    "data = {\n",
    "    f\"Focal Length [{focal_length.unit}]\": focal_length[:, 0],\n",
    "    f\"Spatial Resolution (across-track) [{sensor_spatial_resolution.unit}]\": sensor_spatial_resolution[\n",
    "        :, 0\n",
    "    ],\n",
    "    f\"Spatial Resolution (along-track) [{sensor_spatial_resolution.unit}]\": sensor_spatial_resolution[\n",
    "        :, 1\n",
    "    ],\n",
    "    f\"Swath (across-track) [{swath.unit}]\": swath[:, 0],\n",
    "    f\"Swath (along-track) [{swath.unit}]\": swath[:, 1],\n",
    "}\n",
    "\n",
    "df = pd.DataFrame.from_dict(data=data)\n",
    "graph = plot.line(\n",
    "    df=df,\n",
    "    x=f\"Focal Length [{focal_length.unit}]\",\n",
    "    y=[\n",
    "        f\"Spatial Resolution (across-track) [{sensor_spatial_resolution.unit}]\",\n",
    "        f\"Spatial Resolution (along-track) [{sensor_spatial_resolution.unit}]\",\n",
    "        f\"Swath (across-track) [{swath.unit}]\",\n",
    "        f\"Swath (along-track) [{swath.unit}]\",\n",
    "    ],\n",
    "    title=\"FINCH Eye Spatial Resolution & Swath vs. Focal Length\",\n",
    "    dark=True,\n",
    ")\n",
    "\n",
    "graph.show()\n",
    "display(df)"
   ]
  }
 ],
 "metadata": {
  "interpreter": {
   "hash": "c7f7db14290ee85b175349f2631bdb05d469f7447c44ef0646cf24ece398b7f0"
  },
  "kernelspec": {
   "display_name": "Python 3.10.2 ('.venv': poetry)",
   "language": "python",
   "name": "python3"
  },
  "language_info": {
   "codemirror_mode": {
    "name": "ipython",
    "version": 3
   },
   "file_extension": ".py",
   "mimetype": "text/x-python",
   "name": "python",
   "nbconvert_exporter": "python",
   "pygments_lexer": "ipython3",
   "version": "3.10.2"
  },
  "orig_nbformat": 4
 },
 "nbformat": 4,
 "nbformat_minor": 2
}
