{
 "cells": [
  {
   "cell_type": "markdown",
   "metadata": {},
   "source": [
    "# Tradebook for Mapping of Wavelengths onto Sensor Face"
   ]
  },
  {
   "cell_type": "code",
   "execution_count": null,
   "metadata": {},
   "outputs": [],
   "source": [
    "# external\n",
    "import astropy.units as unit\n",
    "import numpy as np\n",
    "import pandas as pd\n",
    "import plot\n",
    "from IPython.display import display\n",
    "\n",
    "# project\n",
    "from payload_designer import components, systems\n",
    "from payload_designer.libs import utillib"
   ]
  },
  {
   "cell_type": "markdown",
   "metadata": {},
   "source": [
    "## Setup\n",
    "Run this section onwards when a parameter is updated."
   ]
  },
  {
   "cell_type": "markdown",
   "metadata": {},
   "source": [
    "### Parameters"
   ]
  },
  {
   "cell_type": "code",
   "execution_count": null,
   "metadata": {},
   "outputs": [],
   "source": [
    "# region constants\n",
    "lower_wavelength = 900 * unit.nm\n",
    "upper_wavelength = 1700 * unit.nm\n",
    "# endregion\n",
    "\n",
    "# region variables\n",
    "wavelength = np.arange(start=900, stop=1700, step=1) * unit.nm",
    "# endregion"
   ]
  },
  {
   "cell_type": "markdown",
   "metadata": {},
   "source": [
    "### Artifact Instantiation"
   ]
  },
  {
   "cell_type": "code",
   "execution_count": null,
   "metadata": {},
   "outputs": [],
   "source": [
    "# region components\n",
    "diffractor = components.diffractors.VPHGrism()\n",
    "lenses = components.lenses.Lens()\n",
    "sensor = components.sensors.TauSWIR()\n",
    "# endregion\n",
    "\n",
    "# region systems\n",
    "payload = systems.payloads.HyperspectralImager(sensor=sensor, diffractor=diffractor)\n",
    "# endregion"
   ]
  },
  {
   "cell_type": "markdown",
   "metadata": {},
   "source": [
    "## Pipeline\n",
    "The computational graph"
   ]
  },
  {
   "cell_type": "code",
   "execution_count": null,
   "metadata": {},
   "outputs": [],
   "source": [
    "# get image height on lens\n",
    "# calculate sensor height as function of wavelength\n",
    "sensor_height = payload.get_image_height(wavelength=wavelength)\n"
   ]
  },
  {
   "cell_type": "markdown",
   "metadata": {},
   "source": [
    "## Plots"
   ]
  },
  {
   "cell_type": "code",
   "execution_count": null,
   "metadata": {},
   "outputs": [],
   "source": [
    "sensor_height_label = f\"Sensor Height [{sensor_height.unit}]\"\n",
    "wavelength_label = f\"Wavelength Resolution [{wavelength.unit}]\"\n",
    "\n",
    "data = {\n",
    "    sensor_height_label: sensor_height,\n",
    "    wavelength_label: wavelength,\n",
    "}\n",
    "\n",
    "df = pd.DataFrame.from_dict(data=data)\n",
    "\n",
    "graph = plot.line(\n",
    "    df=df,\n",
    "    x=sensor_height_label,\n",
    "    y=wavelength_label,\n",
    "    title=None,\n",
    "    dark=False,\n",
    ")\n",
    "\n",
    "graph.show()\n",
    "display(df)"
   ]
  }
 ],
 "metadata": {
  "interpreter": {
   "hash": "a051636751d8b8c3fb678ae2c2b84596f57742a247cc1675aae9ee3b371aaacc"
  },
  "kernelspec": {
   "display_name": "Python 3.10.4 ('.venv': poetry)",
   "language": "python",
   "name": "python3"
  },
  "language_info": {
   "codemirror_mode": {
    "name": "ipython",
    "version": 3
   },
   "file_extension": ".py",
   "mimetype": "text/x-python",
   "name": "python",
   "nbconvert_exporter": "python",
   "pygments_lexer": "ipython3",
   "version": "3.10.4"
  },
  "orig_nbformat": 4
 },
 "nbformat": 4,
 "nbformat_minor": 2
}
