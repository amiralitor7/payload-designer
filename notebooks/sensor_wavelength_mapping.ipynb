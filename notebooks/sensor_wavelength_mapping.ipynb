{
 "cells": [
  {
   "cell_type": "markdown",
   "metadata": {},
   "source": [
    "# Tradebook for Mapping of Wavelengths onto Sensor Face"
   ]
  },
  {
   "cell_type": "code",
   "execution_count": 13,
   "metadata": {},
   "outputs": [],
   "source": [
    "# external\n",
    "import astropy.units as unit\n",
    "import numpy as np\n",
    "import pandas as pd\n",
    "import plot\n",
    "from IPython.display import display\n",
    "\n",
    "# project\n",
    "from payload_designer import components, systems\n",
    "from payload_designer.libs import utillib"
   ]
  },
  {
   "cell_type": "markdown",
   "metadata": {},
   "source": [
    "## Setup\n",
    "Run this section onwards when a parameter is updated."
   ]
  },
  {
   "cell_type": "markdown",
   "metadata": {},
   "source": [
    "### Parameters"
   ]
  },
  {
   "cell_type": "code",
   "execution_count": 14,
   "metadata": {},
   "outputs": [],
   "source": [
    "# region constants\n",
    "lower_wavelength = 900 * unit.nm\n",
    "upper_wavelength = 1700 * unit.nm\n",
    "# endregion\n",
    "\n",
    "# region variables\n",
    "wavelength = np.arange(start=900, stop=1700, step=1) * unit.nm\n",
    "# endregion"
   ]
  },
  {
   "cell_type": "markdown",
   "metadata": {},
   "source": [
    "### Artifact Instantiation"
   ]
  },
  {
   "cell_type": "code",
   "execution_count": 15,
   "metadata": {},
   "outputs": [],
   "source": [
    "# region components\n",
    "diffractor = components.diffractors.VPHGrism()\n",
    "lenses = components.lenses.Lens()\n",
    "sensor = components.sensors.TauSWIR()\n",
    "# endregion\n",
    "\n",
    "# region systems\n",
    "payload = systems.payloads.HyperspectralImager(sensor=sensor, diffractor=diffractor)\n",
    "# endregion"
   ]
  },
  {
   "cell_type": "markdown",
   "metadata": {},
   "source": [
    "## Pipeline\n",
    "The computational graph"
   ]
  },
  {
   "cell_type": "code",
   "execution_count": 16,
   "metadata": {},
   "outputs": [
    {
     "ename": "TypeError",
     "evalue": "HyperspectralImager.get_incident_angle() takes 2 positional arguments but 3 were given",
     "output_type": "error",
     "traceback": [
      "\u001b[1;31m---------------------------------------------------------------------------\u001b[0m",
      "\u001b[1;31mTypeError\u001b[0m                                 Traceback (most recent call last)",
      "\u001b[1;32mc:\\Users\\Optics\\Documents\\GitHub\\payload-designer\\notebooks\\sensor_wavelength_mapping.ipynb Cell 9\u001b[0m in \u001b[0;36m<cell line: 3>\u001b[1;34m()\u001b[0m\n\u001b[0;32m      <a href='vscode-notebook-cell:/c%3A/Users/Optics/Documents/GitHub/payload-designer/notebooks/sensor_wavelength_mapping.ipynb#ch0000008?line=0'>1</a>\u001b[0m \u001b[39m# get image height on lens\u001b[39;00m\n\u001b[0;32m      <a href='vscode-notebook-cell:/c%3A/Users/Optics/Documents/GitHub/payload-designer/notebooks/sensor_wavelength_mapping.ipynb#ch0000008?line=1'>2</a>\u001b[0m \u001b[39m# calculate sensor height as function of wavelength\u001b[39;00m\n\u001b[1;32m----> <a href='vscode-notebook-cell:/c%3A/Users/Optics/Documents/GitHub/payload-designer/notebooks/sensor_wavelength_mapping.ipynb#ch0000008?line=2'>3</a>\u001b[0m sensor_height \u001b[39m=\u001b[39m payload\u001b[39m.\u001b[39;49mget_image_height(wavelength\u001b[39m=\u001b[39;49mwavelength)\n",
      "File \u001b[1;32m~\\Documents\\GitHub\\payload-designer\\payload_designer\\systems\\payloads.py:254\u001b[0m, in \u001b[0;36mHyperspectralImager.get_image_height\u001b[1;34m(self, wavelength)\u001b[0m\n\u001b[0;32m    251\u001b[0m \u001b[39mdef\u001b[39;00m \u001b[39mget_image_height\u001b[39m(\u001b[39mself\u001b[39m, wavelength):\n\u001b[0;32m    252\u001b[0m     \u001b[39m\"\"\"Get height on sensor that given wavelength hits\"\"\"\u001b[39;00m\n\u001b[1;32m--> 254\u001b[0m     incident_angle \u001b[39m=\u001b[39m \u001b[39mself\u001b[39;49m\u001b[39m.\u001b[39;49mget_incident_angle(\u001b[39mself\u001b[39;49m, wavelength)\n\u001b[0;32m    256\u001b[0m     image_height \u001b[39m=\u001b[39m \u001b[39m19\u001b[39m \u001b[39m+\u001b[39m lenses\u001b[39m.\u001b[39mLens\u001b[39m.\u001b[39mget_image_height(\u001b[39mself\u001b[39m, incident_angle)\n\u001b[0;32m    258\u001b[0m     \u001b[39mreturn\u001b[39;00m image_height\n",
      "\u001b[1;31mTypeError\u001b[0m: HyperspectralImager.get_incident_angle() takes 2 positional arguments but 3 were given"
     ]
    }
   ],
   "source": [
    "# get image height on lens\n",
    "# calculate sensor height as function of wavelength\n",
    "sensor_height = payload.get_image_height(wavelength=wavelength)"
   ]
  },
  {
   "cell_type": "markdown",
   "metadata": {},
   "source": [
    "## Plots"
   ]
  },
  {
   "cell_type": "code",
   "execution_count": null,
   "metadata": {},
   "outputs": [],
   "source": [
    "sensor_height_label = f\"Sensor Height [{sensor_height.unit}]\"\n",
    "wavelength_label = f\"Wavelength Resolution [{wavelength.unit}]\"\n",
    "\n",
    "data = {\n",
    "    sensor_height_label: sensor_height,\n",
    "    wavelength_label: wavelength,\n",
    "}\n",
    "\n",
    "df = pd.DataFrame.from_dict(data=data)\n",
    "\n",
    "graph = plot.line(\n",
    "    df=df,\n",
    "    x=sensor_height_label,\n",
    "    y=wavelength_label,\n",
    "    title=None,\n",
    "    dark=False,\n",
    ")\n",
    "\n",
    "graph.show()\n",
    "display(df)"
   ]
  }
 ],
 "metadata": {
  "interpreter": {
   "hash": "a051636751d8b8c3fb678ae2c2b84596f57742a247cc1675aae9ee3b371aaacc"
  },
  "kernelspec": {
   "display_name": "Python 3.10.4 ('.venv': poetry)",
   "language": "python",
   "name": "python3"
  },
  "language_info": {
   "codemirror_mode": {
    "name": "ipython",
    "version": 3
   },
   "file_extension": ".py",
   "mimetype": "text/x-python",
   "name": "python",
   "nbconvert_exporter": "python",
   "pygments_lexer": "ipython3",
   "version": "3.10.4"
  },
  "orig_nbformat": 4
 },
 "nbformat": 4,
 "nbformat_minor": 2
}
