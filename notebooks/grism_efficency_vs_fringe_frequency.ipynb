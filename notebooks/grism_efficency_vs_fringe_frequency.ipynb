{
 "cells": [
  {
   "cell_type": "markdown",
   "metadata": {},
   "source": [
    "# Grism Efficiency vs Fringe Frequency\n"
   ]
  },
  {
   "cell_type": "code",
   "execution_count": null,
   "metadata": {},
   "outputs": [
    {
     "ename": "",
     "evalue": "",
     "output_type": "error",
     "traceback": [
      "\u001b[1;31mFailed to start the Kernel. \n",
      "Kernel payload-designer-9J66k4FX-py3.10 (Python 3.10.4) is not usable. Check the Jupyter output tab for more information. \n",
      "View Jupyter <a href='command:jupyter.viewOutput'>log</a> for further details."
     ]
    }
   ],
   "source": [
    "# external\n",
    "import astropy.units as unit\n",
    "import numpy as np\n",
    "import pandas as pd\n",
    "import plot\n",
    "from IPython.display import display\n",
    "\n",
    "# project\n",
    "from payload_designer.components import diffractors\n",
    "from payload_designer.libs import utillib"
   ]
  },
  {
   "cell_type": "markdown",
   "metadata": {},
   "source": [
    "## Setup\n",
    "Run this section onwards when a parameter is updated."
   ]
  },
  {
   "cell_type": "markdown",
   "metadata": {},
   "source": [
    "### Parameters"
   ]
  },
  {
   "cell_type": "code",
   "execution_count": null,
   "metadata": {},
   "outputs": [
    {
     "ename": "",
     "evalue": "",
     "output_type": "error",
     "traceback": [
      "\u001b[1;31mFailed to start the Kernel. \n",
      "Kernel payload-designer-9J66k4FX-py3.10 (Python 3.10.4) is not usable. Check the Jupyter output tab for more information. \n",
      "View Jupyter <a href='command:jupyter.viewOutput'>log</a> for further details."
     ]
    }
   ],
   "source": [
    "# region constants\n",
    "\n",
    "a = 90\n",
    "d = 2.5\n",
    "eff_mat = 0.85\n",
    "m = 1\n",
    "n_1 = 1.0\n",
    "n_2 = 1.52\n",
    "n_3 = 1.3\n",
    "n_g = 0.1\n",
    "# endregion\n",
    "\n",
    "# region variables\n",
    "a_in = np.linspace(start=0, stop=5, num=5)\n",
    "l = np.linspace(start=1400, stop=1800, num=5) * unit.nm\n",
    "v = np.linspace(start=900, stop=1200, num=5) * unit.L / unit.mm\n",
    "\n",
    "fringe_frequency = np.arange(start=10, stop=1200, step=10) * (1 / unit.mm)\n",
    "# endregion\n",
    "\n",
    "# vectorization\n",
    "incident_angle = 60 * unit.degree"
   ]
  },
  {
   "cell_type": "markdown",
   "metadata": {},
   "source": [
    "### Artifact Instantiation"
   ]
  },
  {
   "cell_type": "code",
   "execution_count": null,
   "metadata": {},
   "outputs": [
    {
     "ename": "",
     "evalue": "",
     "output_type": "error",
     "traceback": [
      "\u001b[1;31mFailed to start the Kernel. \n",
      "Kernel payload-designer-9J66k4FX-py3.10 (Python 3.10.4) is not usable. Check the Jupyter output tab for more information. \n",
      "View Jupyter <a href='command:jupyter.viewOutput'>log</a> for further details."
     ]
    }
   ],
   "source": [
    "# region components\n",
    "diffractor = diffractors.VPHGrism(\n",
    "    index_dcg_amplitude=n_g,\n",
    "    index_dcg=n_2,\n",
    "    dcg_thickness=d,\n",
    "    fringe_frequency=fringe_frequency,\n",
    ")"
   ]
  },
  {
   "cell_type": "markdown",
   "metadata": {},
   "source": [
    "## Pipeline\n",
    "The computational graph"
   ]
  },
  {
   "cell_type": "code",
   "execution_count": null,
   "metadata": {},
   "outputs": [
    {
     "ename": "",
     "evalue": "",
     "output_type": "error",
     "traceback": [
      "\u001b[1;31mFailed to start the Kernel. \n",
      "Kernel payload-designer-9J66k4FX-py3.10 (Python 3.10.4) is not usable. Check the Jupyter output tab for more information. \n",
      "View Jupyter <a href='command:jupyter.viewOutput'>log</a> for further details."
     ]
    }
   ],
   "source": [
    "pointing_constraint = diffractor1.get_efficiency(incident_angle=60, order=1, n_air=1)"
   ]
  },
  {
   "cell_type": "markdown",
   "metadata": {},
   "source": [
    "## Plots"
   ]
  },
  {
   "cell_type": "code",
   "execution_count": null,
   "metadata": {},
   "outputs": [
    {
     "ename": "",
     "evalue": "",
     "output_type": "error",
     "traceback": [
      "\u001b[1;31mFailed to start the Kernel. \n",
      "Kernel payload-designer-9J66k4FX-py3.10 (Python 3.10.4) is not usable. Check the Jupyter output tab for more information. \n",
      "View Jupyter <a href='command:jupyter.viewOutput'>log</a> for further details."
     ]
    }
   ],
   "source": [
    "plot.plot(fringe_frequency, pointing_constraint)\n",
    "plot.title(\"Grism Efficiency versus Fringe Density\")\n",
    "\n",
    "plot.show()"
   ]
  }
 ],
 "metadata": {
  "kernelspec": {
   "display_name": "Python 3.10.4 ('payload-designer-9J66k4FX-py3.10')",
   "language": "python",
   "name": "python3"
  },
  "language_info": {
   "codemirror_mode": {
    "name": "ipython",
    "version": 3
   },
   "file_extension": ".py",
   "mimetype": "text/x-python",
   "name": "python",
   "nbconvert_exporter": "python",
   "pygments_lexer": "ipython3",
   "version": "3.10.4"
  },
  "orig_nbformat": 4,
  "vscode": {
   "interpreter": {
    "hash": "b37106fcef28cc1dd23ad2cd83538525bf91feaf01506ea8ee7d3d86ec2d0eb8"
   }
  }
 },
 "nbformat": 4,
 "nbformat_minor": 2
}
