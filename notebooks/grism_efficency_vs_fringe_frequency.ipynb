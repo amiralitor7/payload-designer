{
 "cells": [
  {
   "cell_type": "markdown",
   "metadata": {},
   "source": [
    "# Grism Efficiency vs Fringe Frequency\n",
    "Use this notebook as a template to create a tradebook."
   ]
  },
  {
   "cell_type": "code",
   "execution_count": null,
   "metadata": {},
   "outputs": [
    {
     "ename": "",
     "evalue": "",
     "output_type": "error",
     "traceback": [
      "\u001b[1;31mFailed to start the Kernel. \n",
      "Kernel payload-designer-9J66k4FX-py3.10 (Python 3.10.4) is not usable. Check the Jupyter output tab for more information. \n",
      "View Jupyter <a href='command:jupyter.viewOutput'>log</a> for further details."
     ]
    }
   ],
   "source": [
    "# external\n",
    "import numpy as np\n",
    "import pandas as pd\n",
    "import plot\n",
    "from IPython.display import display\n",
    "\n",
    "# project\n",
    "from payload_designer import diffractors\n",
    "from payload_designer.libs import utillib\n",
    "\n",
    "# import astropy.units as unit"
   ]
  },
  {
   "cell_type": "markdown",
   "metadata": {},
   "source": [
    "## Setup\n",
    "Run this section onwards when a parameter is updated."
   ]
  },
  {
   "cell_type": "markdown",
   "metadata": {},
   "source": [
    "### Parameters"
   ]
  },
  {
   "cell_type": "code",
   "execution_count": 4,
   "metadata": {},
   "outputs": [
    {
     "ename": "NameError",
     "evalue": "name 'utillib' is not defined",
     "output_type": "error",
     "traceback": [
      "\u001b[0;31m---------------------------------------------------------------------------\u001b[0m",
      "\u001b[0;31mNameError\u001b[0m                                 Traceback (most recent call last)",
      "\u001b[1;32m/Users/larrytsai/Repositories/payload-designer/notebooks/grism_efficency_vs_fringe_frequency.ipynb Cell 5'\u001b[0m in \u001b[0;36m<cell line: 24>\u001b[0;34m()\u001b[0m\n\u001b[1;32m     <a href='vscode-notebook-cell:/Users/larrytsai/Repositories/payload-designer/notebooks/grism_efficency_vs_fringe_frequency.ipynb#ch0000004?line=13'>14</a>\u001b[0m \u001b[39m# endregion\u001b[39;00m\n\u001b[1;32m     <a href='vscode-notebook-cell:/Users/larrytsai/Repositories/payload-designer/notebooks/grism_efficency_vs_fringe_frequency.ipynb#ch0000004?line=14'>15</a>\u001b[0m \n\u001b[1;32m     <a href='vscode-notebook-cell:/Users/larrytsai/Repositories/payload-designer/notebooks/grism_efficency_vs_fringe_frequency.ipynb#ch0000004?line=15'>16</a>\u001b[0m \u001b[39m# region variables\u001b[39;00m\n\u001b[1;32m     <a href='vscode-notebook-cell:/Users/larrytsai/Repositories/payload-designer/notebooks/grism_efficency_vs_fringe_frequency.ipynb#ch0000004?line=16'>17</a>\u001b[0m shape \u001b[39m=\u001b[39m (\n\u001b[1;32m     <a href='vscode-notebook-cell:/Users/larrytsai/Repositories/payload-designer/notebooks/grism_efficency_vs_fringe_frequency.ipynb#ch0000004?line=17'>18</a>\u001b[0m         a_in\u001b[39m.\u001b[39msize,\n\u001b[1;32m     <a href='vscode-notebook-cell:/Users/larrytsai/Repositories/payload-designer/notebooks/grism_efficency_vs_fringe_frequency.ipynb#ch0000004?line=18'>19</a>\u001b[0m         v\u001b[39m.\u001b[39msize,\n\u001b[1;32m     <a href='vscode-notebook-cell:/Users/larrytsai/Repositories/payload-designer/notebooks/grism_efficency_vs_fringe_frequency.ipynb#ch0000004?line=19'>20</a>\u001b[0m         l\u001b[39m.\u001b[39msize,\n\u001b[1;32m     <a href='vscode-notebook-cell:/Users/larrytsai/Repositories/payload-designer/notebooks/grism_efficency_vs_fringe_frequency.ipynb#ch0000004?line=20'>21</a>\u001b[0m         \u001b[39m1\u001b[39m,\u001b[39m1\u001b[39m,\u001b[39m1\u001b[39m,\u001b[39m1\u001b[39m,\u001b[39m1\u001b[39m,\u001b[39m1\u001b[39m,\u001b[39m1\u001b[39m\n\u001b[1;32m     <a href='vscode-notebook-cell:/Users/larrytsai/Repositories/payload-designer/notebooks/grism_efficency_vs_fringe_frequency.ipynb#ch0000004?line=21'>22</a>\u001b[0m     )\n\u001b[0;32m---> <a href='vscode-notebook-cell:/Users/larrytsai/Repositories/payload-designer/notebooks/grism_efficency_vs_fringe_frequency.ipynb#ch0000004?line=23'>24</a>\u001b[0m a_in \u001b[39m=\u001b[39m utillib\u001b[39m.\u001b[39morient_and_broadcast(a\u001b[39m=\u001b[39ma_in, dim\u001b[39m=\u001b[39m\u001b[39m0\u001b[39m, shape\u001b[39m=\u001b[39mshape)\n\u001b[1;32m     <a href='vscode-notebook-cell:/Users/larrytsai/Repositories/payload-designer/notebooks/grism_efficency_vs_fringe_frequency.ipynb#ch0000004?line=24'>25</a>\u001b[0m v \u001b[39m=\u001b[39m utillib\u001b[39m.\u001b[39morient_and_broadcast(a\u001b[39m=\u001b[39mv, dim\u001b[39m=\u001b[39m\u001b[39m1\u001b[39m, shape\u001b[39m=\u001b[39mshape)\n\u001b[1;32m     <a href='vscode-notebook-cell:/Users/larrytsai/Repositories/payload-designer/notebooks/grism_efficency_vs_fringe_frequency.ipynb#ch0000004?line=25'>26</a>\u001b[0m l \u001b[39m=\u001b[39m utillib\u001b[39m.\u001b[39morient_and_broadcast(a\u001b[39m=\u001b[39ml, dim\u001b[39m=\u001b[39m\u001b[39m2\u001b[39m, shape\u001b[39m=\u001b[39mshape)\n",
      "\u001b[0;31mNameError\u001b[0m: name 'utillib' is not defined"
     ]
    }
   ],
   "source": [
    "# region constants\n",
    "a_in = np.linspace(start=0, stop=5, num=5)\n",
    "l = np.linspace(start=1400, stop=1800, num=5)  # [nm]\n",
    "v = np.linspace(start=900, stop=1200, num=5)  # [L/mm]\n",
    "\n",
    "a = 90\n",
    "d = 2.5\n",
    "eff_mat = 0.85\n",
    "m = 1\n",
    "n_1 = 1.0\n",
    "n_2 = 1.52\n",
    "n_3 = 1.3\n",
    "n_g = 0.1\n",
    "# endregion\n",
    "\n",
    "# region variables\n",
    "shape = (a_in.size, v.size, l.size, 1, 1, 1, 1, 1, 1, 1)\n",
    "\n",
    "a_in = utillib.orient_and_broadcast(a=a_in, dim=0, shape=shape)\n",
    "v = utillib.orient_and_broadcast(a=v, dim=1, shape=shape)\n",
    "l = utillib.orient_and_broadcast(a=l, dim=2, shape=shape)\n",
    "d = utillib.orient_and_broadcast(a=d, dim=3, shape=shape)\n",
    "a = utillib.orient_and_broadcast(a=a, dim=4, shape=shape)\n",
    "n_g = utillib.orient_and_broadcast(a=n_g, dim=5, shape=shape)\n",
    "n_1 = utillib.orient_and_broadcast(a=n_1, dim=6, shape=shape)\n",
    "n_2 = utillib.orient_and_broadcast(a=n_2, dim=7, shape=shape)\n",
    "n_3 = utillib.orient_and_broadcast(a=n_3, dim=8, shape=shape)\n",
    "eff_mat = utillib.orient_and_broadcast(a=eff_mat, dim=9, shape=shape)\n",
    "\n",
    "fringe_frequency = np.arange(start=10, stop=1200, step=10) * (1 / unit.mm)\n",
    "# endregion\n",
    "\n",
    "# vectorization\n",
    "incident_angle = np.py / 3"
   ]
  },
  {
   "cell_type": "markdown",
   "metadata": {},
   "source": [
    "### Artifact Instantiation"
   ]
  },
  {
   "cell_type": "code",
   "execution_count": null,
   "metadata": {},
   "outputs": [],
   "source": [
    "# region components\n",
    "diffractor1 = diffractors.VPHGrism(fringe_frequency=fringe_frequency)\n",
    "diffractor = diffractors.VPHGrism(\n",
    "    m=m,\n",
    "    l=l,\n",
    "    v=v,\n",
    "    a_in=a_in,\n",
    "    eff_mat=eff_mat,\n",
    "    a=a,\n",
    "    d=d,\n",
    "    n_g=n_g,\n",
    "    n_3=n_3,\n",
    "    n_2=n_2,\n",
    "    n_1=n_1,\n",
    ")\n",
    "# endregion\n",
    "\n",
    "\n",
    "# region systems\n",
    "\n",
    "# endregion"
   ]
  },
  {
   "cell_type": "markdown",
   "metadata": {},
   "source": [
    "## Pipeline\n",
    "The computational graph"
   ]
  },
  {
   "cell_type": "code",
   "execution_count": null,
   "metadata": {},
   "outputs": [],
   "source": [
    "pointing_constraint = diffractor.get_efficiency(incident_angle, order=1, n_air=1)"
   ]
  },
  {
   "cell_type": "markdown",
   "metadata": {},
   "source": [
    "## Plots"
   ]
  },
  {
   "cell_type": "code",
   "execution_count": null,
   "metadata": {},
   "outputs": [],
   "source": [
    "fringe_frequency_label = f\"Fringe Density\"\n",
    "grism_efficiency_label = f\"Grism Efficiency\"\n",
    "\n",
    "data = {\n",
    "    fringe_frequency_label: fringe_frequency,\n",
    "    grism_efficiency_label: pointing_constraint,\n",
    "}\n",
    "\n",
    "df = pd.DataFrame.from_dict(data=data)\n",
    "graph = plot.line(\n",
    "    df=df,\n",
    "    x=fringe_frequency_label,\n",
    "    y=[grism_efficiency_label],\n",
    "    title=None,\n",
    "    dark=False,\n",
    ")\n",
    "\n",
    "graph.show()\n",
    "display(df)"
   ]
  }
 ],
 "metadata": {
  "kernelspec": {
   "display_name": "Python 3.10.4 ('payload-designer-9J66k4FX-py3.10')",
   "language": "python",
   "name": "python3"
  },
  "language_info": {
   "codemirror_mode": {
    "name": "ipython",
    "version": 3
   },
   "file_extension": ".py",
   "mimetype": "text/x-python",
   "name": "python",
   "nbconvert_exporter": "python",
   "pygments_lexer": "ipython3",
   "version": "3.10.4"
  },
  "orig_nbformat": 4,
  "vscode": {
   "interpreter": {
    "hash": "b37106fcef28cc1dd23ad2cd83538525bf91feaf01506ea8ee7d3d86ec2d0eb8"
   }
  }
 },
 "nbformat": 4,
 "nbformat_minor": 2
}
