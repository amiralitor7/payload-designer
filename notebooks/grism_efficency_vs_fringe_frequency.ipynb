{
 "cells": [
  {
   "cell_type": "markdown",
   "metadata": {},
   "source": [
    "# Grism Efficiency vs Fringe Frequency\n",
    "Use this notebook as a template to create a tradebook."
   ]
  },
  {
   "cell_type": "code",
   "execution_count": 123,
   "metadata": {},
   "outputs": [],
   "source": [
    "# external\n",
    "import astropy.units as unit\n",
    "import matplotlib.pyplot as plt\n",
    "import numpy as np\n",
    "import pandas as pd\n",
    "import plot\n",
    "from IPython.display import display\n",
    "\n",
    "# project\n",
    "from payload_designer.components import diffractors\n",
    "from payload_designer.libs import utillib\n",
    "\n",
    "# import astropy.units as unit"
   ]
  },
  {
   "cell_type": "markdown",
   "metadata": {},
   "source": [
    "## Setup\n",
    "Run this section onwards when a parameter is updated."
   ]
  },
  {
   "cell_type": "markdown",
   "metadata": {},
   "source": [
    "### Parameters"
   ]
  },
  {
   "cell_type": "code",
   "execution_count": 124,
   "metadata": {},
   "outputs": [],
   "source": [
    "# region constants\n",
    "a_in = np.linspace(start=0, stop=5, num=5)\n",
    "l = np.linspace(start=1400, stop=1800, num=5)  # [nm]\n",
    "v = np.linspace(start=900, stop=1200, num=5)  # [L/mm]\n",
    "\n",
    "a = 90\n",
    "d = 2.5\n",
    "eff_mat = 0.85\n",
    "m = 1\n",
    "n_1 = 1.0\n",
    "n_2 = 1.52\n",
    "n_3 = 1.3\n",
    "n_g = 0.1\n",
    "# endregion\n",
    "\n",
    "# region variables\n",
    "shape = (a_in.size, v.size, l.size, 1, 1, 1, 1, 1, 1, 1)\n",
    "\n",
    "a_in = utillib.orient_and_broadcast(a=a_in, dim=0, shape=shape)\n",
    "v = utillib.orient_and_broadcast(a=v, dim=1, shape=shape)\n",
    "l = utillib.orient_and_broadcast(a=l, dim=2, shape=shape)\n",
    "d = utillib.orient_and_broadcast(a=d, dim=3, shape=shape)\n",
    "a = utillib.orient_and_broadcast(a=a, dim=4, shape=shape)\n",
    "n_g = utillib.orient_and_broadcast(a=n_g, dim=5, shape=shape)\n",
    "n_1 = utillib.orient_and_broadcast(a=n_1, dim=6, shape=shape)\n",
    "n_2 = utillib.orient_and_broadcast(a=n_2, dim=7, shape=shape)\n",
    "n_3 = utillib.orient_and_broadcast(a=n_3, dim=8, shape=shape)\n",
    "eff_mat = utillib.orient_and_broadcast(a=eff_mat, dim=9, shape=shape)\n",
    "\n",
    "fringe_frequency = np.arange(start=10, stop=1200, step=10)  # * (1 / unit.mm)\n",
    "# endregion\n",
    "\n",
    "# vectorization\n",
    "incident_angle = 60  # * unit.degree"
   ]
  },
  {
   "cell_type": "markdown",
   "metadata": {},
   "source": [
    "### Artifact Instantiation"
   ]
  },
  {
   "cell_type": "code",
   "execution_count": 125,
   "metadata": {},
   "outputs": [],
   "source": [
    "# region components\n",
    "diffractor1 = diffractors.VPHGrism(\n",
    "    index_dcg_amplitude=n_g,\n",
    "    index_dcg=n_2,\n",
    "    dcg_thickness=d,\n",
    "    fringe_frequency=fringe_frequency,\n",
    ")\n",
    "# diffractor = diffractors.VPHGrism(\n",
    "#     m=m,\n",
    "#     l=l,\n",
    "#     v=v,\n",
    "#     a_in=a_in,\n",
    "#     eff_mat=eff_mat,\n",
    "#     a=a,\n",
    "#     d=d,\n",
    "#     n_g=n_g,\n",
    "#     n_3=n_3,\n",
    "#     n_2=n_2,\n",
    "#     n_1=n_1,\n",
    "# )\n",
    "# endregion\n",
    "\n",
    "\n",
    "# region systems\n",
    "\n",
    "# endregion"
   ]
  },
  {
   "cell_type": "markdown",
   "metadata": {},
   "source": [
    "## Pipeline\n",
    "The computational graph"
   ]
  },
  {
   "cell_type": "code",
   "execution_count": 126,
   "metadata": {},
   "outputs": [],
   "source": [
    "pointing_constraint = diffractor1.get_efficiency(incident_angle=60, order=1, n_air=1)"
   ]
  },
  {
   "cell_type": "markdown",
   "metadata": {},
   "source": [
    "## Plots"
   ]
  },
  {
   "cell_type": "code",
   "execution_count": 127,
   "metadata": {},
   "outputs": [
    {
     "data": {
      "text/plain": [
       "[<matplotlib.lines.Line2D at 0x253d7841300>]"
      ]
     },
     "execution_count": 127,
     "metadata": {},
     "output_type": "execute_result"
    },
    {
     "data": {
      "image/png": "[encoded data removed]",
      "text/plain": [
       "<Figure size 432x288 with 1 Axes>"
      ]
     },
     "metadata": {
      "needs_background": "light"
     },
     "output_type": "display_data"
    }
   ],
   "source": [
    "fringe_frequency_label = f\"Fringe Density\"\n",
    "grism_efficiency_label = f\"Grism Efficiency\"\n",
    "# print(list(pointing_constraint))\n",
    "plt.xlabel = fringe_frequency_label\n",
    "plt.ylabel = grism_efficiency_label\n",
    "plt.plot(fringe_frequency, pointing_constraint[0][0][0][0][0][0][0][0][0])\n",
    "# data = {\n",
    "#     fringe_frequency_label: fringe_frequency,\n",
    "#     grism_efficiency_label: pointing_constraint,\n",
    "# }\n",
    "\n",
    "# # df = pd.DataFrame.from_dict(data=data)\n",
    "# graph = plot.line(\n",
    "#     df=data,\n",
    "#     x=fringe_frequency_label,\n",
    "#     y=[grism_efficiency_label],\n",
    "#     title=None,\n",
    "#     dark=False,\n",
    "# )\n",
    "\n",
    "# graph.show()\n",
    "# display(data)"
   ]
  }
 ],
 "metadata": {
  "kernelspec": {
   "display_name": "Python 3.10.2 ('.venv': poetry)",
   "language": "python",
   "name": "python3"
  },
  "language_info": {
   "codemirror_mode": {
    "name": "ipython",
    "version": 3
   },
   "file_extension": ".py",
   "mimetype": "text/x-python",
   "name": "python",
   "nbconvert_exporter": "python",
   "pygments_lexer": "ipython3",
   "version": "3.10.2"
  },
  "orig_nbformat": 4,
  "vscode": {
   "interpreter": {
    "hash": "c7f7db14290ee85b175349f2631bdb05d469f7447c44ef0646cf24ece398b7f0"
   }
  }
 },
 "nbformat": 4,
 "nbformat_minor": 2
}
