{
 "cells": [
  {
   "cell_type": "markdown",
   "metadata": {},
   "source": [
    "# Spatial Resolution Trades\n",
    "As driven by foreoptic specifications."
   ]
  },
  {
   "cell_type": "code",
   "execution_count": 1,
   "metadata": {},
   "outputs": [],
   "source": [
    "# external\n",
    "import astropy.constants as const\n",
    "import astropy.units as unit\n",
    "from IPython.display import display\n",
    "\n",
    "import plot\n",
    "# project\n",
    "from payload_designer import components, systems"
   ]
  },
  {
   "cell_type": "code",
   "execution_count": 3,
   "metadata": {},
   "outputs": [
    {
     "data": {
      "text/latex": [
       "$90 \\; \\mathrm{m}$"
      ],
      "text/plain": [
       "<Quantity 90. m>"
      ]
     },
     "execution_count": 3,
     "metadata": {},
     "output_type": "execute_result"
    }
   ],
   "source": [
    "diameter = 100*unit.mm\n",
    "focal_length = 100*unit.mm\n",
    "altitude = 600*unit.km\n",
    "skew_angle = 0*unit.deg\n",
    "wavelength = 1650*unit.nm\n",
    "\n",
    "sensor = components.sensors.TauSWIR()\n",
    "foreoptic = components.foreoptics.Foreoptic(diameter=diameter, focal_length=focal_length)\n",
    "payload = systems.HyperspectralImager(sensor=sensor, foreoptic=foreoptic, slit=None)\n",
    "\n",
    "\n",
    "payload.get_spatial_resolution(wavelength=wavelength, target_distance=altitude, skew_angle=skew_angle).to(unit.m)"
   ]
  },
  {
   "cell_type": "code",
   "execution_count": null,
   "metadata": {},
   "outputs": [],
   "source": []
  }
 ],
 "metadata": {
  "interpreter": {
   "hash": "a051636751d8b8c3fb678ae2c2b84596f57742a247cc1675aae9ee3b371aaacc"
  },
  "kernelspec": {
   "display_name": "Python 3.10.4 ('.venv': poetry)",
   "language": "python",
   "name": "python3"
  },
  "language_info": {
   "codemirror_mode": {
    "name": "ipython",
    "version": 3
   },
   "file_extension": ".py",
   "mimetype": "text/x-python",
   "name": "python",
   "nbconvert_exporter": "python",
   "pygments_lexer": "ipython3",
   "version": "3.10.4"
  },
  "orig_nbformat": 4
 },
 "nbformat": 4,
 "nbformat_minor": 2
}
