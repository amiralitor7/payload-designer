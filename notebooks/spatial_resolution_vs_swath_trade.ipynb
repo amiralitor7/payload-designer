{
 "cells": [
  {
   "cell_type": "markdown",
   "metadata": {},
   "source": [
    "# Spatial Resolution vs. Swath Width Trade\n",
    "As driven by foreoptic specifications."
   ]
  },
  {
   "cell_type": "code",
   "execution_count": 2,
   "metadata": {},
   "outputs": [],
   "source": [
    "# external\n",
    "import astropy.constants as const\n",
    "import astropy.units as unit\n",
    "import numpy as np\n",
    "import pandas as pd\n",
    "import plot\n",
    "from IPython.display import display\n",
    "\n",
    "# project\n",
    "from payload_designer import components, systems"
   ]
  },
  {
   "cell_type": "markdown",
   "metadata": {},
   "source": [
    "## Parameters"
   ]
  },
  {
   "cell_type": "code",
   "execution_count": 7,
   "metadata": {},
   "outputs": [
    {
     "data": {
      "text/plain": [
       "(1, 2)"
      ]
     },
     "execution_count": 7,
     "metadata": {},
     "output_type": "execute_result"
    }
   ],
   "source": [
    "diameter = 100 * unit.mm\n",
    "focal_length = np.arange(start=25, stop=300, step=10) * unit.mm\n",
    "altitude = 600 * unit.km\n",
    "skew_angle = (np.array([0, 0]) * unit.deg).reshape((2, 1))\n",
    "wavelength = 1650 * unit.nm\n",
    "slit_size = (2, 2) * unit.mm\n",
    "slit = components.masks.RectSlit(size=slit_size)"
   ]
  },
  {
   "cell_type": "code",
   "execution_count": 5,
   "metadata": {},
   "outputs": [
    {
     "data": {
      "text/html": [
       "RectSlit Component\n",
       "<table border=\"1\" class=\"dataframe\">\n",
       "  <thead>\n",
       "    <tr style=\"text-align: right;\">\n",
       "      <th></th>\n",
       "      <th>Value</th>\n",
       "      <th>Unit</th>\n",
       "    </tr>\n",
       "  </thead>\n",
       "  <tbody>\n",
       "    <tr>\n",
       "      <th>dimensions</th>\n",
       "      <td>(None, None, None)</td>\n",
       "      <td>None</td>\n",
       "    </tr>\n",
       "    <tr>\n",
       "      <th>mass</th>\n",
       "      <td>None</td>\n",
       "      <td>None</td>\n",
       "    </tr>\n",
       "    <tr>\n",
       "      <th>size</th>\n",
       "      <td>[2.0, 2.0]</td>\n",
       "      <td>mm</td>\n",
       "    </tr>\n",
       "    <tr>\n",
       "      <th>thickness</th>\n",
       "      <td>None</td>\n",
       "      <td>None</td>\n",
       "    </tr>\n",
       "    <tr>\n",
       "      <th>diameter</th>\n",
       "      <td>None</td>\n",
       "      <td>None</td>\n",
       "    </tr>\n",
       "  </tbody>\n",
       "</table>"
      ],
      "text/plain": [
       "<payload_designer.components.masks.RectSlit at 0x27967fc13f0>"
      ]
     },
     "execution_count": 5,
     "metadata": {},
     "output_type": "execute_result"
    }
   ],
   "source": [
    "sensor = components.sensors.TauSWIR()\n",
    "foreoptic = components.foreoptics.Foreoptic(\n",
    "    diameter=diameter, focal_length=focal_length\n",
    ")\n",
    "payload = systems.HyperspectralImager(sensor=sensor, foreoptic=foreoptic, slit=slit)"
   ]
  },
  {
   "cell_type": "markdown",
   "metadata": {},
   "source": [
    "## Pipeline"
   ]
  },
  {
   "cell_type": "code",
   "execution_count": null,
   "metadata": {},
   "outputs": [],
   "source": [
    "sensor_spatial_resolution = payload.get_sensor_spatial_resolution(\n",
    "    target_distance=altitude, skew_angle=skew_angle[0]\n",
    ").to(unit.m)\n",
    "FOV = payload.get_FOV_vector()"
   ]
  },
  {
   "cell_type": "code",
   "execution_count": null,
   "metadata": {},
   "outputs": [],
   "source": [
    "data = {\n",
    "    f\"Focal Length [{focal_length.unit}]\": focal_length,\n",
    "    f\"Spatial Resolution [{sensor_spatial_resolution.unit}]\": sensor_spatial_resolution,\n",
    "}\n",
    "\n",
    "\n",
    "\n",
    "df = pd.DataFrame.from_dict(data=data)\n",
    "graph = plot.line(\n",
    "    df=df,\n",
    "    x=f\"Focal Length [{focal_length.unit}]\",\n",
    "    y=f\"Spatial Resolution [{sensor_spatial_resolution.unit}]\",\n",
    "    title=\"FINCH Eye Spatial Resolution vs. Focal Length\",\n",
    "    dark=True,\n",
    ")\n",
    "graph.show()\n",
    "display(df)"
   ]
  }
 ],
 "metadata": {
  "interpreter": {
   "hash": "70c27f84d8c4361b65c5a292a90d0e13ef827efc206af1c709a4b0974bed5317"
  },
  "kernelspec": {
   "display_name": "Python 3.10.4 ('.venv': poetry)",
   "language": "python",
   "name": "python3"
  },
  "language_info": {
   "codemirror_mode": {
    "name": "ipython",
    "version": 3
   },
   "file_extension": ".py",
   "mimetype": "text/x-python",
   "name": "python",
   "nbconvert_exporter": "python",
   "pygments_lexer": "ipython3",
   "version": "3.10.4"
  },
  "orig_nbformat": 4
 },
 "nbformat": 4,
 "nbformat_minor": 2
}
