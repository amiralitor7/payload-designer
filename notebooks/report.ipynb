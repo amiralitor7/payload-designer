{
 "cells": [
  {
   "cell_type": "markdown",
   "metadata": {},
   "source": [
    "# Report Generator\n",
    "Produces a full-system report for the FINCH Eye payload."
   ]
  },
  {
   "cell_type": "code",
   "execution_count": 12,
   "metadata": {},
   "outputs": [
    {
     "name": "stdout",
     "output_type": "stream",
     "text": [
      "  Name   = Planck constant\n",
      "  Value  = 6.62607015e-34\n",
      "  Uncertainty  = 0.0\n",
      "  Unit  = J s\n",
      "  Reference = CODATA 2018\n"
     ]
    }
   ],
   "source": [
    "# external\n",
    "import astropy.constants as const\n",
    "import astropy.units as unit\n",
    "from IPython.display import display\n",
    "\n",
    "# project\n",
    "from payload_designer import components, luts, systems"
   ]
  },
  {
   "cell_type": "markdown",
   "metadata": {},
   "source": [
    "## Transmission and Quantum Efficiencies"
   ]
  },
  {
   "cell_type": "code",
   "execution_count": 5,
   "metadata": {},
   "outputs": [
    {
     "name": "stdout",
     "output_type": "stream",
     "text": [
      "51984.0 mm3\n"
     ]
    },
    {
     "data": {
      "text/latex": [
       "$51984 \\; \\mathrm{mm^{3}}$"
      ],
      "text/plain": [
       "<Quantity 51984. mm3>"
      ]
     },
     "metadata": {},
     "output_type": "display_data"
    }
   ],
   "source": [
    "sensor = components.sensors.TauSWIR()\n",
    "\n",
    "\n",
    "# focuser = components.lenses.Lens()\n",
    "# grism = components.diffractors.VPHGrism()\n",
    "# bandfilter = components.filters.DichroicBandFilter()\n",
    "# collimator = components.lenses.Lens()\n",
    "# slit = components.masks.RectSlit()\n",
    "\n",
    "\n",
    "# display(sensor)\n",
    "# display(focuser)\n",
    "# display(grism)\n",
    "# display(bandfilter)\n",
    "# display(collimator)\n",
    "# display(slit)"
   ]
  },
  {
   "cell_type": "markdown",
   "metadata": {},
   "source": [
    "## System Definition"
   ]
  },
  {
   "cell_type": "code",
   "execution_count": null,
   "metadata": {},
   "outputs": [],
   "source": [
    "# system parameters\n",
    "sys_params = {\n",
    "    \"altitude\": 500 * unit.km,\n",
    "    \"wavelength\": 1600 * unit.nm,\n",
    "}\n",
    "\n",
    "# components\n",
    "components_dict = {\"sensor\": components.sensors.TauSWIR()}\n",
    "\n",
    "display(sys_params)\n",
    "display(components_dict)"
   ]
  },
  {
   "cell_type": "code",
   "execution_count": null,
   "metadata": {},
   "outputs": [],
   "source": [
    "# component definition\n",
    "# foreoptic = foreoptics.Foreoptic(eta=foreoptic_eta, d_i=d_i)\n",
    "# slit = slits.Slit(w_s=w_s, l_s=l_s)\n",
    "# collimator = lenses.AchromLens(eta=collimator_eta)\n",
    "# bandfilter = filters.Filter(eta=bandfilter_eta)\n",
    "# diffractor = diffractors.VPHGrism(eta=diffractor_eta)\n",
    "# focuser = lenses.AchromLens(eta=focuser_eta)\n",
    "# sensor = sensors.TauSWIR()\n",
    "\n",
    "\n",
    "# system definition\n",
    "system = systems.BaseSystemV3(params=sys_params)"
   ]
  },
  {
   "cell_type": "markdown",
   "metadata": {},
   "source": [
    "## Report\n",
    "Input parameters:"
   ]
  },
  {
   "cell_type": "markdown",
   "metadata": {},
   "source": [
    "Derived Parameters:"
   ]
  },
  {
   "cell_type": "code",
   "execution_count": null,
   "metadata": {},
   "outputs": [],
   "source": [
    "data = system.get_report()\n",
    "display(data)"
   ]
  }
 ],
 "metadata": {
  "interpreter": {
   "hash": "a051636751d8b8c3fb678ae2c2b84596f57742a247cc1675aae9ee3b371aaacc"
  },
  "kernelspec": {
   "display_name": "Python 3.10.4 ('.venv': poetry)",
   "language": "python",
   "name": "python3"
  },
  "language_info": {
   "codemirror_mode": {
    "name": "ipython",
    "version": 3
   },
   "file_extension": ".py",
   "mimetype": "text/x-python",
   "name": "python",
   "nbconvert_exporter": "python",
   "pygments_lexer": "ipython3",
   "version": "3.10.4"
  },
  "orig_nbformat": 4
 },
 "nbformat": 4,
 "nbformat_minor": 2
}
