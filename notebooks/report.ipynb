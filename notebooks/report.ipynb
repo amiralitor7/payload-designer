{
 "cells": [
  {
   "cell_type": "markdown",
   "metadata": {},
   "source": [
    "# Report Generator"
   ]
  },
  {
   "cell_type": "code",
   "execution_count": 1,
   "metadata": {},
   "outputs": [],
   "source": [
    "# from payload_designer.components import diffractors, filters, lenses, sensors, slits, foreoptics\n",
    "# external\n",
    "import astropy.constants as const\n",
    "import astropy.units as unit\n",
    "from IPython.display import Math, display\n",
    "\n",
    "# project\n",
    "from payload_designer import systems"
   ]
  },
  {
   "cell_type": "markdown",
   "metadata": {},
   "source": [
    "## System Definition"
   ]
  },
  {
   "cell_type": "code",
   "execution_count": 2,
   "metadata": {},
   "outputs": [
    {
     "data": {
      "text/plain": [
       "{'altitude': <Quantity 500. km>, 'wavelength': <Quantity 1600. nm>}"
      ]
     },
     "metadata": {},
     "output_type": "display_data"
    }
   ],
   "source": [
    "# parameters\n",
    "sys_params = {\n",
    "    \"altitude\": 500 * unit.km,\n",
    "    \"wavelength\": 1600 * unit.nm,\n",
    "}\n",
    "\n",
    "display(sys_params)"
   ]
  },
  {
   "cell_type": "code",
   "execution_count": 3,
   "metadata": {},
   "outputs": [],
   "source": [
    "# component definition\n",
    "# foreoptic = foreoptics.Foreoptic(eta=foreoptic_eta, d_i=d_i)\n",
    "# slit = slits.Slit(w_s=w_s, l_s=l_s)\n",
    "# collimator = lenses.AchromLens(eta=collimator_eta)\n",
    "# bandfilter = filters.Filter(eta=bandfilter_eta)\n",
    "# diffractor = diffractors.VPHGrism(eta=diffractor_eta)\n",
    "# focuser = lenses.AchromLens(eta=focuser_eta)\n",
    "# sensor = sensors.TauSWIR()\n",
    "\n",
    "\n",
    "# system definition\n",
    "system = systems.BaseSystemV3(params=sys_params)"
   ]
  },
  {
   "cell_type": "markdown",
   "metadata": {},
   "source": [
    "## Report"
   ]
  },
  {
   "cell_type": "code",
   "execution_count": 4,
   "metadata": {},
   "outputs": [
    {
     "data": {
      "text/html": [
       "<div>\n",
       "<style scoped>\n",
       "    .dataframe tbody tr th:only-of-type {\n",
       "        vertical-align: middle;\n",
       "    }\n",
       "\n",
       "    .dataframe tbody tr th {\n",
       "        vertical-align: top;\n",
       "    }\n",
       "\n",
       "    .dataframe thead th {\n",
       "        text-align: right;\n",
       "    }\n",
       "</style>\n",
       "<table border=\"1\" class=\"dataframe\">\n",
       "  <thead>\n",
       "    <tr style=\"text-align: right;\">\n",
       "      <th></th>\n",
       "      <th>Value</th>\n",
       "      <th>Units</th>\n",
       "    </tr>\n",
       "  </thead>\n",
       "  <tbody>\n",
       "    <tr>\n",
       "      <th>v_orbit</th>\n",
       "      <td>7612.63</td>\n",
       "      <td>m / s</td>\n",
       "    </tr>\n",
       "    <tr>\n",
       "      <th>w_orbit</th>\n",
       "      <td>0.00</td>\n",
       "      <td>1 / s</td>\n",
       "    </tr>\n",
       "    <tr>\n",
       "      <th>v_ground</th>\n",
       "      <td>7059.23</td>\n",
       "      <td>m / s</td>\n",
       "    </tr>\n",
       "    <tr>\n",
       "      <th>R_orbit</th>\n",
       "      <td>6878100.00</td>\n",
       "      <td>m</td>\n",
       "    </tr>\n",
       "  </tbody>\n",
       "</table>\n",
       "</div>"
      ],
      "text/plain": [
       "               Value  Units\n",
       "v_orbit      7612.63  m / s\n",
       "w_orbit         0.00  1 / s\n",
       "v_ground     7059.23  m / s\n",
       "R_orbit   6878100.00      m"
      ]
     },
     "metadata": {},
     "output_type": "display_data"
    }
   ],
   "source": [
    "data = system.report()\n",
    "display(data)"
   ]
  }
 ],
 "metadata": {
  "interpreter": {
   "hash": "12439117e4d41dbc86224256c7c9bf1d3f0a3a660a2c192047ed5e69633cf429"
  },
  "kernelspec": {
   "display_name": "Python 3.10.4 ('.venv': poetry)",
   "language": "python",
   "name": "python3"
  },
  "language_info": {
   "codemirror_mode": {
    "name": "ipython",
    "version": 3
   },
   "file_extension": ".py",
   "mimetype": "text/x-python",
   "name": "python",
   "nbconvert_exporter": "python",
   "pygments_lexer": "ipython3",
   "version": "3.10.4"
  },
  "orig_nbformat": 4
 },
 "nbformat": 4,
 "nbformat_minor": 2
}
