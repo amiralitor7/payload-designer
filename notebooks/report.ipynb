{
 "cells": [
  {
   "cell_type": "markdown",
   "metadata": {},
   "source": [
    "# Report Generator\n",
    "Produces a full-system report for FINCH"
   ]
  },
  {
   "cell_type": "code",
   "execution_count": 1,
   "metadata": {},
   "outputs": [
    {
     "ename": "NameError",
     "evalue": "name 'Payload' is not defined",
     "output_type": "error",
     "traceback": [
      "\u001b[1;31m---------------------------------------------------------------------------\u001b[0m",
      "\u001b[1;31mNameError\u001b[0m                                 Traceback (most recent call last)",
      "\u001b[1;32mc:\\Users\\David\\Workbench\\payload-designer\\notebooks\\report.ipynb Cell 2'\u001b[0m in \u001b[0;36m<cell line: 6>\u001b[1;34m()\u001b[0m\n\u001b[0;32m      <a href='vscode-notebook-cell:/c%3A/Users/David/Workbench/payload-designer/notebooks/report.ipynb#ch0000001?line=2'>3</a>\u001b[0m \u001b[39mfrom\u001b[39;00m \u001b[39mIPython\u001b[39;00m\u001b[39m.\u001b[39;00m\u001b[39mdisplay\u001b[39;00m \u001b[39mimport\u001b[39;00m display\n\u001b[0;32m      <a href='vscode-notebook-cell:/c%3A/Users/David/Workbench/payload-designer/notebooks/report.ipynb#ch0000001?line=4'>5</a>\u001b[0m \u001b[39m# project\u001b[39;00m\n\u001b[1;32m----> <a href='vscode-notebook-cell:/c%3A/Users/David/Workbench/payload-designer/notebooks/report.ipynb#ch0000001?line=5'>6</a>\u001b[0m \u001b[39mfrom\u001b[39;00m \u001b[39mpayload_designer\u001b[39;00m \u001b[39mimport\u001b[39;00m systems, components\n",
      "File \u001b[1;32m~\\Workbench\\payload-designer\\payload_designer\\systems\\__init__.py:1\u001b[0m, in \u001b[0;36m<module>\u001b[1;34m\u001b[0m\n\u001b[1;32m----> <a href='file:///c%3A/Users/David/Workbench/payload-designer/payload_designer/systems/__init__.py?line=0'>1</a>\u001b[0m \u001b[39mfrom\u001b[39;00m \u001b[39m.\u001b[39;00m \u001b[39mimport\u001b[39;00m payloads, satellites\n",
      "File \u001b[1;32m~\\Workbench\\payload-designer\\payload_designer\\systems\\satellites.py:49\u001b[0m, in \u001b[0;36m<module>\u001b[1;34m\u001b[0m\n\u001b[0;32m     <a href='file:///c%3A/Users/David/Workbench/payload-designer/payload_designer/systems/satellites.py?line=43'>44</a>\u001b[0m         v_ground \u001b[39m=\u001b[39m \u001b[39mself\u001b[39m\u001b[39m.\u001b[39mget_orbit_angular_velocity() \u001b[39m*\u001b[39m const\u001b[39m.\u001b[39mR_earth\n\u001b[0;32m     <a href='file:///c%3A/Users/David/Workbench/payload-designer/payload_designer/systems/satellites.py?line=45'>46</a>\u001b[0m         \u001b[39mreturn\u001b[39;00m v_ground\n\u001b[1;32m---> <a href='file:///c%3A/Users/David/Workbench/payload-designer/payload_designer/systems/satellites.py?line=48'>49</a>\u001b[0m \u001b[39mclass\u001b[39;00m \u001b[39mCubeSat\u001b[39;00m(Satellite):\n\u001b[0;32m     <a href='file:///c%3A/Users/David/Workbench/payload-designer/payload_designer/systems/satellites.py?line=49'>50</a>\u001b[0m     \u001b[39mdef\u001b[39;00m \u001b[39m__init__\u001b[39m(\u001b[39mself\u001b[39m, payload: Payload, altitude, U):\n\u001b[0;32m     <a href='file:///c%3A/Users/David/Workbench/payload-designer/payload_designer/systems/satellites.py?line=50'>51</a>\u001b[0m         \u001b[39msuper\u001b[39m()\u001b[39m.\u001b[39m\u001b[39m__init__\u001b[39m(altitude\u001b[39m=\u001b[39maltitude)\n",
      "File \u001b[1;32m~\\Workbench\\payload-designer\\payload_designer\\systems\\satellites.py:50\u001b[0m, in \u001b[0;36mCubeSat\u001b[1;34m()\u001b[0m\n\u001b[0;32m     <a href='file:///c%3A/Users/David/Workbench/payload-designer/payload_designer/systems/satellites.py?line=48'>49</a>\u001b[0m \u001b[39mclass\u001b[39;00m \u001b[39mCubeSat\u001b[39;00m(Satellite):\n\u001b[1;32m---> <a href='file:///c%3A/Users/David/Workbench/payload-designer/payload_designer/systems/satellites.py?line=49'>50</a>\u001b[0m     \u001b[39mdef\u001b[39;00m \u001b[39m__init__\u001b[39m(\u001b[39mself\u001b[39m, payload: Payload, altitude, U):\n\u001b[0;32m     <a href='file:///c%3A/Users/David/Workbench/payload-designer/payload_designer/systems/satellites.py?line=50'>51</a>\u001b[0m         \u001b[39msuper\u001b[39m()\u001b[39m.\u001b[39m\u001b[39m__init__\u001b[39m(altitude\u001b[39m=\u001b[39maltitude)\n\u001b[0;32m     <a href='file:///c%3A/Users/David/Workbench/payload-designer/payload_designer/systems/satellites.py?line=51'>52</a>\u001b[0m         \u001b[39mself\u001b[39m\u001b[39m.\u001b[39mU \u001b[39m=\u001b[39m U\n",
      "\u001b[1;31mNameError\u001b[0m: name 'Payload' is not defined"
     ]
    }
   ],
   "source": [
    "# external\n",
    "import astropy.units as unit\n",
    "from IPython.display import display\n",
    "\n",
    "# project\n",
    "from payload_designer import components, systems"
   ]
  },
  {
   "cell_type": "code",
   "execution_count": null,
   "metadata": {},
   "outputs": [],
   "source": [
    "# parameters\n",
    "altitude = 550 * unit.km"
   ]
  },
  {
   "cell_type": "code",
   "execution_count": null,
   "metadata": {},
   "outputs": [
    {
     "ename": "AttributeError",
     "evalue": "module 'payload_designer.systems' has no attribute 'payloads'",
     "output_type": "error",
     "traceback": [
      "\u001b[1;31m---------------------------------------------------------------------------\u001b[0m",
      "\u001b[1;31mAttributeError\u001b[0m                            Traceback (most recent call last)",
      "\u001b[1;32mc:\\Users\\David\\Workbench\\payload-designer\\notebooks\\report.ipynb Cell 4'\u001b[0m in \u001b[0;36m<cell line: 10>\u001b[1;34m()\u001b[0m\n\u001b[0;32m      <a href='vscode-notebook-cell:/c%3A/Users/David/Workbench/payload-designer/notebooks/report.ipynb#ch0000010?line=6'>7</a>\u001b[0m focuser \u001b[39m=\u001b[39m components\u001b[39m.\u001b[39mlenses\u001b[39m.\u001b[39mLens()\n\u001b[0;32m      <a href='vscode-notebook-cell:/c%3A/Users/David/Workbench/payload-designer/notebooks/report.ipynb#ch0000010?line=8'>9</a>\u001b[0m \u001b[39m# systems instantiation\u001b[39;00m\n\u001b[1;32m---> <a href='vscode-notebook-cell:/c%3A/Users/David/Workbench/payload-designer/notebooks/report.ipynb#ch0000010?line=9'>10</a>\u001b[0m payload \u001b[39m=\u001b[39m systems\u001b[39m.\u001b[39;49mpayloads\u001b[39m.\u001b[39mFINCHEye(foreoptic\u001b[39m=\u001b[39mforeoptic, slit\u001b[39m=\u001b[39mslit, collimator\u001b[39m=\u001b[39mcollimator, bandfilter\u001b[39m=\u001b[39mbandfilter, grism\u001b[39m=\u001b[39mgrism, focuser\u001b[39m=\u001b[39mfocuser)\n\u001b[0;32m     <a href='vscode-notebook-cell:/c%3A/Users/David/Workbench/payload-designer/notebooks/report.ipynb#ch0000010?line=10'>11</a>\u001b[0m satellite \u001b[39m=\u001b[39m systems\u001b[39m.\u001b[39msatellites\u001b[39m.\u001b[39mFINCH(payload\u001b[39m=\u001b[39mpayload, altitude\u001b[39m=\u001b[39maltitude)\n\u001b[0;32m     <a href='vscode-notebook-cell:/c%3A/Users/David/Workbench/payload-designer/notebooks/report.ipynb#ch0000010?line=12'>13</a>\u001b[0m display(satellite)\n",
      "\u001b[1;31mAttributeError\u001b[0m: module 'payload_designer.systems' has no attribute 'payloads'"
     ]
    }
   ],
   "source": [
    "# component instantiation\n",
    "foreoptic = components.foreoptics.Foreoptic()\n",
    "slit = components.masks.RectSlit()\n",
    "collimator = components.lenses.Lens()\n",
    "bandfilter = components.filters.DichroicBandFilter()\n",
    "grism = components.diffractors.VPHGrating()\n",
    "focuser = components.lenses.Lens()\n",
    "\n",
    "# systems instantiation\n",
    "payload = systems.payloads.FINCHEye(\n",
    "    foreoptic=foreoptic,\n",
    "    slit=slit,\n",
    "    collimator=collimator,\n",
    "    bandfilter=bandfilter,\n",
    "    grism=grism,\n",
    "    focuser=focuser,\n",
    ")\n",
    "satellite = systems.satellites.FINCH(payload=payload, altitude=altitude)\n",
    "\n",
    "display(satellite)"
   ]
  }
 ],
 "metadata": {
  "interpreter": {
   "hash": "a051636751d8b8c3fb678ae2c2b84596f57742a247cc1675aae9ee3b371aaacc"
  },
  "kernelspec": {
   "display_name": "Python 3.10.4 ('.venv': poetry)",
   "language": "python",
   "name": "python3"
  },
  "language_info": {
   "codemirror_mode": {
    "name": "ipython",
    "version": 3
   },
   "file_extension": ".py",
   "mimetype": "text/x-python",
   "name": "python",
   "nbconvert_exporter": "python",
   "pygments_lexer": "ipython3",
   "version": "3.10.4"
  },
  "orig_nbformat": 4
 },
 "nbformat": 4,
 "nbformat_minor": 2
}
